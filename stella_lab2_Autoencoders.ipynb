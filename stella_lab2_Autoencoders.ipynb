{
  "nbformat": 4,
  "nbformat_minor": 0,
  "metadata": {
    "colab": {
      "provenance": [],
      "authorship_tag": "ABX9TyN5pYQbAYMf7lWAOZ9g4YZL",
      "include_colab_link": true
    },
    "kernelspec": {
      "name": "python3",
      "display_name": "Python 3"
    },
    "language_info": {
      "name": "python"
    }
  },
  "cells": [
    {
      "cell_type": "markdown",
      "metadata": {
        "id": "view-in-github",
        "colab_type": "text"
      },
      "source": [
        "<a href=\"https://colab.research.google.com/github/StellaMassaRebolledo/NeuralNetworks/blob/main/stella_lab2_Autoencoders.ipynb\" target=\"_parent\"><img src=\"https://colab.research.google.com/assets/colab-badge.svg\" alt=\"Open In Colab\"/></a>"
      ]
    },
    {
      "cell_type": "code",
      "execution_count": 79,
      "metadata": {
        "id": "ieKG3XHKN_a8"
      },
      "outputs": [],
      "source": [
        "# # COMP 263 - DEEP LEARNING\n",
        "# Assignment #2: Autoencoders and Transfer Learning\n",
        "# Student: Stella Massa Rebolledo\n",
        "# ID: 301207800"
      ]
    },
    {
      "cell_type": "code",
      "source": [
        "import tensorflow as tf\n",
        "from tensorflow.keras.datasets import fashion_mnist\n",
        "import numpy as np\n",
        "from tensorflow.keras.utils import to_categorical\n",
        "from sklearn.model_selection import train_test_split\n",
        "from tensorflow.keras.models import Sequential\n",
        "from tensorflow.keras.layers import Dense,Flatten\n",
        "from tensorflow.keras.layers import Conv2DTranspose, Conv2D, Input\n",
        "import graphviz\n",
        "from tensorflow.keras.utils import plot_model\n",
        "from matplotlib import pyplot as plt\n",
        "from sklearn.metrics import confusion_matrix\n",
        "import seaborn as sns"
      ],
      "metadata": {
        "id": "TrC9OmKpOQIY"
      },
      "execution_count": 148,
      "outputs": []
    },
    {
      "cell_type": "code",
      "source": [
        "'''   ------------  Getting the data -------------     '''\n",
        "(train_images, train_labels), (test_images, test_labels) = fashion_mnist.load_data()"
      ],
      "metadata": {
        "id": "bDc39qw3PHSW"
      },
      "execution_count": 81,
      "outputs": []
    },
    {
      "cell_type": "code",
      "source": [
        "train_images.shape"
      ],
      "metadata": {
        "colab": {
          "base_uri": "https://localhost:8080/"
        },
        "id": "tHboE-74PvWH",
        "outputId": "59c98656-45c3-470c-f4ac-d09acb90b9f3"
      },
      "execution_count": 82,
      "outputs": [
        {
          "output_type": "execute_result",
          "data": {
            "text/plain": [
              "(60000, 28, 28)"
            ]
          },
          "metadata": {},
          "execution_count": 82
        }
      ]
    },
    {
      "cell_type": "code",
      "source": [
        "test_images.shape"
      ],
      "metadata": {
        "colab": {
          "base_uri": "https://localhost:8080/"
        },
        "id": "hZuh_GWQPyIn",
        "outputId": "2c6f7d02-2a7e-4509-bb83-e50d4b02f3fb"
      },
      "execution_count": 83,
      "outputs": [
        {
          "output_type": "execute_result",
          "data": {
            "text/plain": [
              "(10000, 28, 28)"
            ]
          },
          "metadata": {},
          "execution_count": 83
        }
      ]
    },
    {
      "cell_type": "code",
      "source": [
        "# Dictionaries\n",
        "unsupervised_stella = {'images': train_images}\n",
        "supervised_stella = {'images': test_images, 'labels': test_labels}"
      ],
      "metadata": {
        "id": "nYHSSEV8Pbk1"
      },
      "execution_count": 84,
      "outputs": []
    },
    {
      "cell_type": "code",
      "source": [
        "np.amax (unsupervised_stella['images'])"
      ],
      "metadata": {
        "colab": {
          "base_uri": "https://localhost:8080/"
        },
        "id": "X2qvplBWRdjC",
        "outputId": "9098a992-73c7-4556-917f-60eda090b9fb"
      },
      "execution_count": 85,
      "outputs": [
        {
          "output_type": "execute_result",
          "data": {
            "text/plain": [
              "255"
            ]
          },
          "metadata": {},
          "execution_count": 85
        }
      ]
    },
    {
      "cell_type": "code",
      "source": [
        "'''  -------------------- Data Pre-processing ---------------'''\n",
        "# # Normalize pixels for images in supervised and unsupervised dictionaries\n",
        "unsupervised_stella['images']= np.array([i/255 for i in unsupervised_stella['images']])\n"
      ],
      "metadata": {
        "id": "oA5u4IhNPbuP"
      },
      "execution_count": 86,
      "outputs": []
    },
    {
      "cell_type": "code",
      "source": [
        "np.amax (unsupervised_stella['images'])"
      ],
      "metadata": {
        "colab": {
          "base_uri": "https://localhost:8080/"
        },
        "id": "b8AAf1fvPbxf",
        "outputId": "362c5724-0fc8-499e-cdb8-8c85b5bac3ba"
      },
      "execution_count": 87,
      "outputs": [
        {
          "output_type": "execute_result",
          "data": {
            "text/plain": [
              "1.0"
            ]
          },
          "metadata": {},
          "execution_count": 87
        }
      ]
    },
    {
      "cell_type": "code",
      "source": [
        "supervised_stella['images'] = np.array([j/255 for j in supervised_stella['images']])"
      ],
      "metadata": {
        "id": "beUIqemGPb0u"
      },
      "execution_count": 88,
      "outputs": []
    },
    {
      "cell_type": "code",
      "source": [
        "np.amax(supervised_stella['images'])"
      ],
      "metadata": {
        "colab": {
          "base_uri": "https://localhost:8080/"
        },
        "id": "0whx4MhoSwAG",
        "outputId": "6a58c20e-4aba-42fa-b5b8-21c51b0393e9"
      },
      "execution_count": 89,
      "outputs": [
        {
          "output_type": "execute_result",
          "data": {
            "text/plain": [
              "1.0"
            ]
          },
          "metadata": {},
          "execution_count": 89
        }
      ]
    },
    {
      "cell_type": "code",
      "source": [
        "# # Apply to_categorical to the supervised dictionary labels\n",
        "categorical = to_categorical(supervised_stella['labels'], dtype='object')\n",
        "supervised_stella['labels'] = categorical"
      ],
      "metadata": {
        "id": "KEF5SklYS1ky"
      },
      "execution_count": 90,
      "outputs": []
    },
    {
      "cell_type": "code",
      "source": [
        "supervised_stella['labels'].shape  #changed to 10 cols -- encoding"
      ],
      "metadata": {
        "colab": {
          "base_uri": "https://localhost:8080/"
        },
        "id": "ExFNyjdhS1oC",
        "outputId": "3c9ac7f1-2649-4d05-b427-13837990ea08"
      },
      "execution_count": 91,
      "outputs": [
        {
          "output_type": "execute_result",
          "data": {
            "text/plain": [
              "(10000, 10)"
            ]
          },
          "metadata": {},
          "execution_count": 91
        }
      ]
    },
    {
      "cell_type": "code",
      "source": [
        "# # Printing shapes\n",
        "print(f\"unsupervised dictionary images' shape: {unsupervised_stella['images'].shape}\")\n",
        "print (f\"supervised dictionary images' shape: {supervised_stella['images'].shape}\")\n",
        "print (f\"supervised dictionary labels' shape: {supervised_stella['labels'].shape}\")\n"
      ],
      "metadata": {
        "colab": {
          "base_uri": "https://localhost:8080/"
        },
        "id": "kREcSEIQS1wb",
        "outputId": "73fe0e64-9c43-4f62-ceae-643702f92992"
      },
      "execution_count": 92,
      "outputs": [
        {
          "output_type": "stream",
          "name": "stdout",
          "text": [
            "unsupervised dictionary images' shape: (60000, 28, 28)\n",
            "supervised dictionary images' shape: (10000, 28, 28)\n",
            "supervised dictionary labels' shape: (10000, 10)\n"
          ]
        }
      ]
    },
    {
      "cell_type": "code",
      "source": [
        "''' --------------- Data Preparation ----------------'''"
      ],
      "metadata": {
        "colab": {
          "base_uri": "https://localhost:8080/",
          "height": 36
        },
        "id": "FNYG4vbbUoYo",
        "outputId": "0a288cf1-ac96-4ba2-88b8-479d1767d31c"
      },
      "execution_count": 93,
      "outputs": [
        {
          "output_type": "execute_result",
          "data": {
            "text/plain": [
              "' --------------- Data Preparation ----------------'"
            ],
            "application/vnd.google.colaboratory.intrinsic+json": {
              "type": "string"
            }
          },
          "metadata": {},
          "execution_count": 93
        }
      ]
    },
    {
      "cell_type": "code",
      "source": [
        "seed = 00"
      ],
      "metadata": {
        "id": "VlfFOtapUobo"
      },
      "execution_count": 94,
      "outputs": []
    },
    {
      "cell_type": "code",
      "source": [
        "# # Splitting unsupervised array\n",
        "unsupervised_train_stella, unsupervised_val_stella = train_test_split(unsupervised_stella['images'], test_size=0.05, random_state=seed)"
      ],
      "metadata": {
        "id": "mzCcmTFnUod6"
      },
      "execution_count": 95,
      "outputs": []
    },
    {
      "cell_type": "code",
      "source": [
        "print (unsupervised_train_stella.shape)"
      ],
      "metadata": {
        "colab": {
          "base_uri": "https://localhost:8080/"
        },
        "id": "ByVsiNJ4p0ZT",
        "outputId": "2204dc05-eabf-4a6e-99f5-b977c75fd4d0"
      },
      "execution_count": 96,
      "outputs": [
        {
          "output_type": "stream",
          "name": "stdout",
          "text": [
            "(57000, 28, 28)\n"
          ]
        }
      ]
    },
    {
      "cell_type": "code",
      "source": [
        "print(unsupervised_val_stella.shape)"
      ],
      "metadata": {
        "colab": {
          "base_uri": "https://localhost:8080/"
        },
        "id": "VtiGb0Gip5vE",
        "outputId": "eddbfec3-dbb5-427f-96be-ad9f4f66c45f"
      },
      "execution_count": 97,
      "outputs": [
        {
          "output_type": "stream",
          "name": "stdout",
          "text": [
            "(3000, 28, 28)\n"
          ]
        }
      ]
    },
    {
      "cell_type": "code",
      "source": [
        "# # Discard 7000 samples from supervised dataset (x and y)\n",
        "X, discard_x, y, discard_y = train_test_split(supervised_stella['images'], supervised_stella['labels'], test_size=0.70, random_state=seed)"
      ],
      "metadata": {
        "id": "26Ypux_oncNH"
      },
      "execution_count": 98,
      "outputs": []
    },
    {
      "cell_type": "code",
      "source": [
        "print (X.shape)\n",
        "print (y.shape)"
      ],
      "metadata": {
        "colab": {
          "base_uri": "https://localhost:8080/"
        },
        "id": "7Fq_7Gb7ncQ5",
        "outputId": "17db5e40-5c66-426b-f88c-0779af8a9383"
      },
      "execution_count": 99,
      "outputs": [
        {
          "output_type": "stream",
          "name": "stdout",
          "text": [
            "(3000, 28, 28)\n",
            "(3000, 10)\n"
          ]
        }
      ]
    },
    {
      "cell_type": "code",
      "source": [
        "# # Split remaining supervised dataset (3000) into training (1800), validation (600) and testing (600)\n",
        "x_full, x_test_stella, y_full, y_test_stella = train_test_split(X, y, test_size=0.20, random_state=seed)"
      ],
      "metadata": {
        "id": "qhXfHGZcncUn"
      },
      "execution_count": 100,
      "outputs": []
    },
    {
      "cell_type": "code",
      "source": [
        "x_train_stella, x_val_stella, y_train_stella, y_val_stella = train_test_split(x_full, y_full, test_size=0.25, random_state=seed)"
      ],
      "metadata": {
        "id": "NzkFER0jsLnF"
      },
      "execution_count": 101,
      "outputs": []
    },
    {
      "cell_type": "code",
      "source": [
        "# # Printing\n",
        "print (f\"Shape of unsupervised training set: {unsupervised_train_stella.shape}\")\n",
        "print (f\"Shape of unsupervised validation set: {unsupervised_val_stella.shape}\")\n",
        "print(f\"Shape of supervised images training set: {x_train_stella.shape}\")\n",
        "print(f\"Shape of supervised images validation set: {x_val_stella.shape}\")\n",
        "print(f\"Shape of supervised images testing set: {x_test_stella.shape}\")\n",
        "print(f\"Shape of supervised label training set: {y_train_stella.shape}\")\n",
        "print(f\"Shape of supervised label validation set: {y_val_stella.shape}\")\n",
        "print(f\"Shape of supervised label testing  set: {y_test_stella.shape}\")"
      ],
      "metadata": {
        "colab": {
          "base_uri": "https://localhost:8080/"
        },
        "id": "PQqA_Dd-sLqV",
        "outputId": "74216c04-ead7-4ffd-811a-f007b7b582d7"
      },
      "execution_count": 102,
      "outputs": [
        {
          "output_type": "stream",
          "name": "stdout",
          "text": [
            "Shape of unsupervised training set: (57000, 28, 28)\n",
            "Shape of unsupervised validation set: (3000, 28, 28)\n",
            "Shape of supervised images training set: (1800, 28, 28)\n",
            "Shape of supervised images validation set: (600, 28, 28)\n",
            "Shape of supervised images testing set: (600, 28, 28)\n",
            "Shape of supervised label training set: (1800, 10)\n",
            "Shape of supervised label validation set: (600, 10)\n",
            "Shape of supervised label testing  set: (600, 10)\n"
          ]
        }
      ]
    },
    {
      "cell_type": "code",
      "source": [
        "''' ------------------- Build, train and validate a baseline CNN model -------------'''"
      ],
      "metadata": {
        "colab": {
          "base_uri": "https://localhost:8080/",
          "height": 36
        },
        "id": "d066F5gosLsw",
        "outputId": "40d45f61-caab-4f36-a432-a99a74da1166"
      },
      "execution_count": 103,
      "outputs": [
        {
          "output_type": "execute_result",
          "data": {
            "text/plain": [
              "' ------------------- Build, train and validate a baseline CNN model -------------'"
            ],
            "application/vnd.google.colaboratory.intrinsic+json": {
              "type": "string"
            }
          },
          "metadata": {},
          "execution_count": 103
        }
      ]
    },
    {
      "cell_type": "code",
      "source": [
        "# # Build CNN using Sequential\n",
        "im_height, im_width = 28,28\n",
        "n_clases = 10\n",
        "input_shape = (im_height, im_width, 1)"
      ],
      "metadata": {
        "id": "Qnh9CG-9uBZF"
      },
      "execution_count": 104,
      "outputs": []
    },
    {
      "cell_type": "code",
      "source": [
        "cnn_v1_model_stella = Sequential()\n",
        "cnn_v1_model_stella.add(Conv2D(16, kernel_size=(3,3), strides=(2,2), padding='same', activation='relu',  input_shape=input_shape))\n",
        "cnn_v1_model_stella.add(Conv2D(8, kernel_size=(3,3), strides=(2,2), padding = 'same', activation = 'relu'))\n",
        "cnn_v1_model_stella.add(Flatten())\n",
        "cnn_v1_model_stella.add(Dense(100, activation = 'relu'))\n",
        "cnn_v1_model_stella.add(Dense(n_clases, activation = 'softmax'))"
      ],
      "metadata": {
        "id": "xay-0hDyuBb_"
      },
      "execution_count": 105,
      "outputs": []
    },
    {
      "cell_type": "code",
      "source": [
        "# # Compile the model\n",
        "cnn_v1_model_stella.compile(optimizer='adam', loss = 'categorical_crossentropy', metrics = 'accuracy')"
      ],
      "metadata": {
        "id": "fsePB8wiuBfG"
      },
      "execution_count": 106,
      "outputs": []
    },
    {
      "cell_type": "code",
      "source": [
        "cnn_v1_model_stella.summary()"
      ],
      "metadata": {
        "colab": {
          "base_uri": "https://localhost:8080/"
        },
        "id": "btAJ2lWHuBpW",
        "outputId": "cb98d37e-0f12-446a-b2fa-43c018cd4ce5"
      },
      "execution_count": 107,
      "outputs": [
        {
          "output_type": "stream",
          "name": "stdout",
          "text": [
            "Model: \"sequential_5\"\n",
            "_________________________________________________________________\n",
            " Layer (type)                Output Shape              Param #   \n",
            "=================================================================\n",
            " conv2d_9 (Conv2D)           (None, 14, 14, 16)        160       \n",
            "                                                                 \n",
            " conv2d_10 (Conv2D)          (None, 7, 7, 8)           1160      \n",
            "                                                                 \n",
            " flatten_4 (Flatten)         (None, 392)               0         \n",
            "                                                                 \n",
            " dense_8 (Dense)             (None, 100)               39300     \n",
            "                                                                 \n",
            " dense_9 (Dense)             (None, 10)                1010      \n",
            "                                                                 \n",
            "=================================================================\n",
            "Total params: 41630 (162.62 KB)\n",
            "Trainable params: 41630 (162.62 KB)\n",
            "Non-trainable params: 0 (0.00 Byte)\n",
            "_________________________________________________________________\n"
          ]
        }
      ]
    },
    {
      "cell_type": "code",
      "source": [
        "plot_model(cnn_v1_model_stella, to_file='cnn_v1_model_stella.png', show_shapes=True)"
      ],
      "metadata": {
        "colab": {
          "base_uri": "https://localhost:8080/",
          "height": 644
        },
        "id": "mgIbOPxu2aGj",
        "outputId": "c61a504f-5d04-4829-d85b-c5ba89986026"
      },
      "execution_count": 108,
      "outputs": [
        {
          "output_type": "execute_result",
          "data": {
            "image/png": "[encoded data removed]",
            "text/plain": [
              "<IPython.core.display.Image object>"
            ]
          },
          "metadata": {},
          "execution_count": 108
        }
      ]
    },
    {
      "cell_type": "code",
      "source": [
        "# # Use train/val sypervised dataset to train and validate the cnn model\n",
        "\n",
        "#  Reshape inputs\n",
        "x_train_stella = x_train_stella.reshape(x_train_stella.shape[0], im_height, im_width, 1)\n",
        "x_val_stella = x_val_stella.reshape(x_val_stella.shape[0], im_height, im_width, 1)\n"
      ],
      "metadata": {
        "id": "LplnqTVH2aKT"
      },
      "execution_count": 110,
      "outputs": []
    },
    {
      "cell_type": "code",
      "source": [
        "# converting labels to float\n",
        "y_train_stella = y_train_stella.astype('float64')\n",
        "y_val_stella = y_val_stella.astype('float64')"
      ],
      "metadata": {
        "id": "rdI7Ks4g6ToB"
      },
      "execution_count": 112,
      "outputs": []
    },
    {
      "cell_type": "code",
      "source": [
        "# Fit the model\n",
        "batch_size = 256\n",
        "epochs = 10\n",
        "cnn_v1_history_stella = cnn_v1_model_stella.fit(x_train_stella, y_train_stella, batch_size=batch_size, epochs = epochs, validation_data= (x_val_stella, y_val_stella))"
      ],
      "metadata": {
        "colab": {
          "base_uri": "https://localhost:8080/"
        },
        "id": "VyGE2QFm5GnF",
        "outputId": "56f21d3f-b9b0-4686-ac46-ef40e32fe792"
      },
      "execution_count": 113,
      "outputs": [
        {
          "output_type": "stream",
          "name": "stdout",
          "text": [
            "Epoch 1/10\n",
            "8/8 [==============================] - 4s 418ms/step - loss: 2.2624 - accuracy: 0.2411 - val_loss: 2.1663 - val_accuracy: 0.5300\n",
            "Epoch 2/10\n",
            "8/8 [==============================] - 0s 17ms/step - loss: 2.0603 - accuracy: 0.5717 - val_loss: 1.8749 - val_accuracy: 0.5667\n",
            "Epoch 3/10\n",
            "8/8 [==============================] - 0s 18ms/step - loss: 1.7148 - accuracy: 0.5683 - val_loss: 1.4659 - val_accuracy: 0.6150\n",
            "Epoch 4/10\n",
            "8/8 [==============================] - 0s 18ms/step - loss: 1.3050 - accuracy: 0.6467 - val_loss: 1.0950 - val_accuracy: 0.6783\n",
            "Epoch 5/10\n",
            "8/8 [==============================] - 0s 17ms/step - loss: 0.9934 - accuracy: 0.6889 - val_loss: 0.9336 - val_accuracy: 0.6750\n",
            "Epoch 6/10\n",
            "8/8 [==============================] - 0s 19ms/step - loss: 0.8436 - accuracy: 0.7011 - val_loss: 0.8080 - val_accuracy: 0.7050\n",
            "Epoch 7/10\n",
            "8/8 [==============================] - 0s 45ms/step - loss: 0.7621 - accuracy: 0.7267 - val_loss: 0.7946 - val_accuracy: 0.7100\n",
            "Epoch 8/10\n",
            "8/8 [==============================] - 0s 19ms/step - loss: 0.7047 - accuracy: 0.7422 - val_loss: 0.7605 - val_accuracy: 0.7083\n",
            "Epoch 9/10\n",
            "8/8 [==============================] - 0s 18ms/step - loss: 0.6870 - accuracy: 0.7328 - val_loss: 0.7286 - val_accuracy: 0.7433\n",
            "Epoch 10/10\n",
            "8/8 [==============================] - 0s 17ms/step - loss: 0.6576 - accuracy: 0.7594 - val_loss: 0.7578 - val_accuracy: 0.7100\n"
          ]
        }
      ]
    },
    {
      "cell_type": "code",
      "source": [
        "''' -------------- Test and Analyze the baseline model ---------------------'''"
      ],
      "metadata": {
        "id": "1EcV0iOi5GxO"
      },
      "execution_count": null,
      "outputs": []
    },
    {
      "cell_type": "code",
      "source": [
        "cnn_v1_history_stella.history.keys()"
      ],
      "metadata": {
        "colab": {
          "base_uri": "https://localhost:8080/"
        },
        "id": "poQcHfvG_HAY",
        "outputId": "3c290468-2d55-45df-f968-ceda5c10491f"
      },
      "execution_count": 120,
      "outputs": [
        {
          "output_type": "execute_result",
          "data": {
            "text/plain": [
              "dict_keys(['loss', 'accuracy', 'val_loss', 'val_accuracy'])"
            ]
          },
          "metadata": {},
          "execution_count": 120
        }
      ]
    },
    {
      "cell_type": "code",
      "source": [
        "acc_train = cnn_v1_history_stella.history['accuracy']\n",
        "print(acc_train)"
      ],
      "metadata": {
        "colab": {
          "base_uri": "https://localhost:8080/"
        },
        "id": "RZKoI32K5G1S",
        "outputId": "c437955b-a72f-471e-cf38-052ebea70983"
      },
      "execution_count": 121,
      "outputs": [
        {
          "output_type": "stream",
          "name": "stdout",
          "text": [
            "[0.24111111462116241, 0.5716666579246521, 0.5683333277702332, 0.6466666460037231, 0.6888889074325562, 0.7011111378669739, 0.7266666889190674, 0.742222249507904, 0.7327777743339539, 0.7594444155693054]\n"
          ]
        }
      ]
    },
    {
      "cell_type": "code",
      "source": [
        "acc_val = cnn_v1_history_stella.history['val_accuracy']\n",
        "print(acc_val)"
      ],
      "metadata": {
        "colab": {
          "base_uri": "https://localhost:8080/"
        },
        "id": "4W2Y017k61Wv",
        "outputId": "74cbac38-5bcb-41a8-d830-c7c2d3967c1b"
      },
      "execution_count": 122,
      "outputs": [
        {
          "output_type": "stream",
          "name": "stdout",
          "text": [
            "[0.5299999713897705, 0.5666666626930237, 0.6150000095367432, 0.6783333420753479, 0.675000011920929, 0.7049999833106995, 0.7099999785423279, 0.7083333134651184, 0.7433333396911621, 0.7099999785423279]\n"
          ]
        }
      ]
    },
    {
      "cell_type": "code",
      "source": [
        "x_range = np.arange (1, 11, 1)\n",
        "plt.figure (figsize=(8,8))\n",
        "plt.plot(x_range, acc_train,  linestyle='--', color='purple', label = 'Training Set Accuracy')\n",
        "plt.plot(x_range, acc_val, linestyle='--', color='dodgerblue', label = 'Validation Set Accuracy')\n",
        "plt.grid()\n",
        "plt.xlabel('Epochs')\n",
        "plt.ylabel('Accuracy')\n",
        "plt.title ('Training Set Accuracy vs Validation Set Accuracy')\n",
        "plt.legend()\n",
        "plt.show()"
      ],
      "metadata": {
        "colab": {
          "base_uri": "https://localhost:8080/",
          "height": 718
        },
        "id": "7H84iaSl61ng",
        "outputId": "131541c8-6db8-42e0-c3e5-073626a35847"
      },
      "execution_count": 130,
      "outputs": [
        {
          "output_type": "display_data",
          "data": {
            "text/plain": [
              "<Figure size 800x800 with 1 Axes>"
            ],
            "image/png": "[encoded data removed]"
          },
          "metadata": {}
        }
      ]
    },
    {
      "cell_type": "code",
      "source": [
        "# # Evaluate the cnn model"
      ],
      "metadata": {
        "id": "SblDkZ2561zY"
      },
      "execution_count": null,
      "outputs": []
    },
    {
      "cell_type": "code",
      "source": [
        "# Reshape x_test\n",
        "x_test_stella = x_test_stella.reshape(x_test_stella.shape[0], im_height, im_width, 1)"
      ],
      "metadata": {
        "id": "zPoa6aAUBjpT"
      },
      "execution_count": 124,
      "outputs": []
    },
    {
      "cell_type": "code",
      "source": [
        "# Converting to float y_test\n",
        "y_test_stella = y_test_stella.astype('float64')"
      ],
      "metadata": {
        "id": "PRiT31dCBjsn"
      },
      "execution_count": 125,
      "outputs": []
    },
    {
      "cell_type": "code",
      "source": [
        "# Evaluating\n",
        "evaluation = cnn_v1_model_stella.evaluate(x_test_stella, y_test_stella)"
      ],
      "metadata": {
        "colab": {
          "base_uri": "https://localhost:8080/"
        },
        "id": "ruqtBWwiB8Ab",
        "outputId": "a6b1e9c7-0487-4794-f723-54153f59b4e5"
      },
      "execution_count": 126,
      "outputs": [
        {
          "output_type": "stream",
          "name": "stdout",
          "text": [
            "19/19 [==============================] - 0s 26ms/step - loss: 0.7668 - accuracy: 0.6900\n"
          ]
        }
      ]
    },
    {
      "cell_type": "code",
      "source": [
        "print (f\"Test accuracy: {evaluation[1]}\")"
      ],
      "metadata": {
        "colab": {
          "base_uri": "https://localhost:8080/"
        },
        "id": "ctYOSjgvB8Es",
        "outputId": "2b436b4a-c5ab-49e0-9f8f-3405f11f50fa"
      },
      "execution_count": 127,
      "outputs": [
        {
          "output_type": "stream",
          "name": "stdout",
          "text": [
            "Test accuracy: 0.6899999976158142\n"
          ]
        }
      ]
    },
    {
      "cell_type": "code",
      "source": [
        "# # Predictions\n",
        "cnn_predictions_stella = cnn_v1_model_stella.predict(x_test_stella)"
      ],
      "metadata": {
        "colab": {
          "base_uri": "https://localhost:8080/"
        },
        "id": "kle23jx6Ejgk",
        "outputId": "a31cfff6-c8a6-4656-98bf-1305b7d14b14"
      },
      "execution_count": 131,
      "outputs": [
        {
          "output_type": "stream",
          "name": "stdout",
          "text": [
            "19/19 [==============================] - 0s 10ms/step\n"
          ]
        }
      ]
    },
    {
      "cell_type": "code",
      "source": [
        "print(y_test_stella[0])"
      ],
      "metadata": {
        "colab": {
          "base_uri": "https://localhost:8080/"
        },
        "id": "nWBB8SsDG2nw",
        "outputId": "6d0a7c4d-aeab-44ef-9d20-556ddc88dcd1"
      },
      "execution_count": 135,
      "outputs": [
        {
          "output_type": "stream",
          "name": "stdout",
          "text": [
            "[0. 0. 0. 1. 0. 0. 0. 0. 0. 0.]\n"
          ]
        }
      ]
    },
    {
      "cell_type": "code",
      "source": [
        "print(np.argmax(y_test_stella[0]))"
      ],
      "metadata": {
        "colab": {
          "base_uri": "https://localhost:8080/"
        },
        "id": "vqrQdj5KG9hZ",
        "outputId": "a5567005-1d22-4696-95ff-463c21530c17"
      },
      "execution_count": 136,
      "outputs": [
        {
          "output_type": "stream",
          "name": "stdout",
          "text": [
            "3\n"
          ]
        }
      ]
    },
    {
      "cell_type": "code",
      "source": [
        "indices = []\n",
        "for i, j in enumerate(y_test_stella):\n",
        "  indices.append (np.argmax(y_test_stella[i]))"
      ],
      "metadata": {
        "id": "GpZIdDyPG9kb"
      },
      "execution_count": 138,
      "outputs": []
    },
    {
      "cell_type": "code",
      "source": [
        "print (indices[0])"
      ],
      "metadata": {
        "colab": {
          "base_uri": "https://localhost:8080/"
        },
        "id": "Xlw_T53WG9ra",
        "outputId": "89c57ee5-b337-4726-c494-10d39c44cd7e"
      },
      "execution_count": 139,
      "outputs": [
        {
          "output_type": "stream",
          "name": "stdout",
          "text": [
            "3\n"
          ]
        }
      ]
    },
    {
      "cell_type": "code",
      "source": [
        "y_test_2 = indices"
      ],
      "metadata": {
        "id": "IxWB-yKXIFfZ"
      },
      "execution_count": 141,
      "outputs": []
    },
    {
      "cell_type": "code",
      "source": [
        "y_pred = []\n",
        "for i, j in enumerate(cnn_predictions_stella):\n",
        "  y_pred.append(np.argmax(cnn_predictions_stella[i]))"
      ],
      "metadata": {
        "id": "MIRbR4HMILB7"
      },
      "execution_count": 142,
      "outputs": []
    },
    {
      "cell_type": "code",
      "source": [
        "print(y_pred[0])"
      ],
      "metadata": {
        "colab": {
          "base_uri": "https://localhost:8080/"
        },
        "id": "hNb2mweLILE-",
        "outputId": "c4cbc20f-3452-42df-b75a-2608b8ad8114"
      },
      "execution_count": 143,
      "outputs": [
        {
          "output_type": "stream",
          "name": "stdout",
          "text": [
            "3\n"
          ]
        }
      ]
    },
    {
      "cell_type": "code",
      "source": [
        "# # Plot confusion matrix\n",
        "cm = confusion_matrix(y_test_2, y_pred, labels = np.arange(0,10))"
      ],
      "metadata": {
        "id": "Hi3SOKgYEjqM"
      },
      "execution_count": 146,
      "outputs": []
    },
    {
      "cell_type": "code",
      "source": [
        "print (cm)"
      ],
      "metadata": {
        "colab": {
          "base_uri": "https://localhost:8080/"
        },
        "id": "npN9ZzQrIkr2",
        "outputId": "964d7b47-6c2d-4d8d-a4bf-3b5c96689947"
      },
      "execution_count": 147,
      "outputs": [
        {
          "output_type": "stream",
          "name": "stdout",
          "text": [
            "[[41  1  2  8  0  1  8  0  1  0]\n",
            " [ 0 44  0  1  0  0  4  0  0  0]\n",
            " [ 0  1 45  1  2  0  9  0  2  0]\n",
            " [ 1  0  0 54  0  0  1  0  0  0]\n",
            " [ 0  4 37  8 14  0  3  0  2  0]\n",
            " [ 0  0  0  0  0 55  0  8  0  1]\n",
            " [11  0 29  5  1  1  9  0  0  0]\n",
            " [ 0  0  0  0  0  1  0 54  0  2]\n",
            " [ 0  0  2  4  0  2  4  5 51  0]\n",
            " [ 0  0  0  0  0  1  3  9  0 47]]\n"
          ]
        }
      ]
    },
    {
      "cell_type": "code",
      "source": [
        "labels = np.arange(0,10,1)"
      ],
      "metadata": {
        "id": "ehTBp4XALfh6"
      },
      "execution_count": 149,
      "outputs": []
    },
    {
      "cell_type": "code",
      "source": [
        "print(labels)"
      ],
      "metadata": {
        "colab": {
          "base_uri": "https://localhost:8080/"
        },
        "id": "x-LGZZW8LlC_",
        "outputId": "fe2970ec-1b9b-4141-a428-eb913da831a8"
      },
      "execution_count": 150,
      "outputs": [
        {
          "output_type": "stream",
          "name": "stdout",
          "text": [
            "[0 1 2 3 4 5 6 7 8 9]\n"
          ]
        }
      ]
    },
    {
      "cell_type": "code",
      "source": [
        "# Seaborn to the rescue\n",
        "ax = sns.heatmap(cm, annot=True, annot_kws={'size': 10}, xticklabels=labels, yticklabels=labels, cmap='Blues')\n",
        "ax.set_xlabel ('Predicted', fontsize=10)\n",
        "ax.set_ylabel('True', fontsize=10)\n",
        "plt.title ('Confusion Matrix')\n",
        "plt.axis()\n",
        "plt.show()"
      ],
      "metadata": {
        "colab": {
          "base_uri": "https://localhost:8080/",
          "height": 472
        },
        "id": "rcAsbk97LH5S",
        "outputId": "38689458-b7c3-4667-86c1-fb4ae6d8eaa5"
      },
      "execution_count": 159,
      "outputs": [
        {
          "output_type": "display_data",
          "data": {
            "text/plain": [
              "<Figure size 640x480 with 2 Axes>"
            ],
            "image/png": "[encoded data removed]"
          },
          "metadata": {}
        }
      ]
    },
    {
      "cell_type": "code",
      "source": [
        "''' ----------- Add random noise to the unsupervised dataset ------------'''\n",
        "noise_factor = 0.2"
      ],
      "metadata": {
        "id": "9UEgcSpaLH8n"
      },
      "execution_count": 163,
      "outputs": []
    },
    {
      "cell_type": "code",
      "source": [
        "pure_train = unsupervised_train_stella\n",
        "pure_val = unsupervised_val_stella"
      ],
      "metadata": {
        "id": "dAMSEQITPbZJ"
      },
      "execution_count": 160,
      "outputs": []
    },
    {
      "cell_type": "code",
      "source": [
        "noise_train = tf.random.normal(pure_train.shape, seed=seed)"
      ],
      "metadata": {
        "id": "MYjr-XosPbhH"
      },
      "execution_count": 161,
      "outputs": []
    },
    {
      "cell_type": "code",
      "source": [
        "noise_val = tf.random.normal(pure_val.shape, seed=seed)"
      ],
      "metadata": {
        "id": "3sQQ6C4uPbnf"
      },
      "execution_count": 162,
      "outputs": []
    },
    {
      "cell_type": "code",
      "source": [
        "x_train_noisy_stella = pure_train + (noise_train*noise_factor)"
      ],
      "metadata": {
        "id": "0VrGL4A7PbtY"
      },
      "execution_count": 164,
      "outputs": []
    },
    {
      "cell_type": "code",
      "source": [
        "x_val_noisy_stella = pure_val +(noise_val*noise_factor)"
      ],
      "metadata": {
        "id": "hV5q15AJT1rl"
      },
      "execution_count": 165,
      "outputs": []
    },
    {
      "cell_type": "code",
      "source": [],
      "metadata": {
        "id": "wTcVWrumUAmE"
      },
      "execution_count": null,
      "outputs": []
    },
    {
      "cell_type": "code",
      "source": [],
      "metadata": {
        "id": "754YnQynUApn"
      },
      "execution_count": null,
      "outputs": []
    }
  ]
}